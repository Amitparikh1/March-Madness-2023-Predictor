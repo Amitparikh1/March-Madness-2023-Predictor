{
 "cells": [
  {
   "cell_type": "markdown",
   "id": "772197df",
   "metadata": {},
   "source": [
    "# Predicting NCAA MBB Bracketology 2023"
   ]
  },
  {
   "cell_type": "markdown",
   "id": "c8012feb",
   "metadata": {},
   "source": [
    "### Imports"
   ]
  },
  {
   "cell_type": "code",
   "execution_count": 365,
   "id": "119bfd24",
   "metadata": {},
   "outputs": [],
   "source": [
    "import pandas as pd\n",
    "import matplotlib.pyplot as plt\n",
    "from sklearn.tree import DecisionTreeClassifier\n",
    "from sklearn.ensemble import AdaBoostClassifier\n",
    "from sklearn.model_selection import GridSearchCV\n",
    "from sklearn.model_selection import train_test_split\n",
    "from sklearn.metrics import accuracy_score"
   ]
  },
  {
   "cell_type": "code",
   "execution_count": 366,
   "id": "f57f19d9",
   "metadata": {},
   "outputs": [],
   "source": [
    "import warnings\n",
    "warnings.filterwarnings('ignore')"
   ]
  },
  {
   "cell_type": "markdown",
   "id": "02225804",
   "metadata": {},
   "source": [
    "### Read in Data "
   ]
  },
  {
   "cell_type": "markdown",
   "id": "09821706",
   "metadata": {},
   "source": [
    "#### Historic Matchup Data"
   ]
  },
  {
   "cell_type": "code",
   "execution_count": 367,
   "id": "f079a512",
   "metadata": {},
   "outputs": [],
   "source": [
    "# Historic Matchup Data\n",
    "df_historical_matchups = pd.read_csv('Data/Big_Dance_CSV.csv')"
   ]
  },
  {
   "cell_type": "markdown",
   "id": "f1c0ba53",
   "metadata": {},
   "source": [
    "#### Historic Ken Pom Data"
   ]
  },
  {
   "cell_type": "code",
   "execution_count": 368,
   "id": "ea78d04f",
   "metadata": {},
   "outputs": [],
   "source": [
    "# Read in Historic Ken Pom Data\n",
    "df_list_kenpom = []\n",
    "\n",
    "for year in range(2002, 2023):\n",
    "    _df = pd.read_excel(f'Data/KenPom{year}.xlsx')\n",
    "    _df['Year'] = year\n",
    "    df_list_kenpom.append(_df)\n",
    "    \n",
    "df_kenpom_master = pd.concat(df_list_kenpom)"
   ]
  },
  {
   "cell_type": "markdown",
   "id": "55256164",
   "metadata": {},
   "source": [
    "### Clean Data"
   ]
  },
  {
   "cell_type": "markdown",
   "id": "931ae7c7",
   "metadata": {},
   "source": [
    "#### Clean Historic Ken Pom Data"
   ]
  },
  {
   "cell_type": "code",
   "execution_count": 369,
   "id": "ea61f7d2",
   "metadata": {},
   "outputs": [],
   "source": [
    "# Get relevant columns\n",
    "cols = ['Team', 'AdjEM', 'AdjO', 'AdjD', 'AdjT', 'Luck', 'AdjEM.1', 'OppO', 'OppD', 'AdjEM.2', 'Year']\n",
    "\n",
    "def clean_kenpom(df):\n",
    "    df = df[cols]\n",
    "    # Convert proper columns to floats\n",
    "    df[['AdjEM', 'AdjO', 'AdjD', 'AdjT', 'Luck', 'AdjEM.1', 'OppO', 'OppD', 'AdjEM.2']] = df[['AdjEM', 'AdjO', 'AdjD', 'AdjT', 'Luck', 'AdjEM.1', 'OppO', 'OppD', 'AdjEM.2']].astype('float')\n",
    "\n",
    "    # Clean Team Name\n",
    "    df['Team'] = df['Team'].str.split('Â').str[0]\n",
    "    df['Team'] = df['Team'].replace('\\d+', '', regex=True)\n",
    "    df['Team'] = df['Team'].replace('St.', 'St', regex=True)\n",
    "    df['Team'] = df['Team'].replace(\"'\", \"\", regex=True)\n",
    "    return df\n",
    "\n",
    "df_kenpom = clean_kenpom(df_kenpom_master)"
   ]
  },
  {
   "cell_type": "markdown",
   "id": "9085e73f",
   "metadata": {},
   "source": [
    "#### Clean Historical Data"
   ]
  },
  {
   "cell_type": "code",
   "execution_count": 370,
   "id": "cf9c615f",
   "metadata": {},
   "outputs": [],
   "source": [
    "df_games = df_historical_matchups[['Year', 'Score', 'Team', 'Team.1', 'Score.1']]\n",
    "df_games = df_games.rename(columns={'Team': 'Team 1', 'Score': 'Score 1', 'Team.1' : 'Team 2', 'Score.1': 'Score 2'})\n",
    "# Create a winner column, 1 if team 1 wins, 0 if team 2 wins\n",
    "df_games['Winner'] = df_games['Score 1'] > df_games['Score 2']\n",
    "df_games['Winner'] = df_games['Winner'].map({True:1, False:0})\n",
    "df_games.drop(columns=['Score 1', 'Score 2'], inplace=True)"
   ]
  },
  {
   "cell_type": "markdown",
   "id": "5c1b558a",
   "metadata": {},
   "source": [
    "#### Merge Data"
   ]
  },
  {
   "cell_type": "code",
   "execution_count": 371,
   "id": "8e00ef2c",
   "metadata": {},
   "outputs": [],
   "source": [
    "cols_mapping_1 = {col: col+'1' for col in cols if col != 'Team' and col != 'Year'}\n",
    "cols_mapping_2 = {col: col+'2' for col in cols if col != 'Team' and col != 'Year'}"
   ]
  },
  {
   "cell_type": "code",
   "execution_count": 372,
   "id": "5ac48a9c",
   "metadata": {},
   "outputs": [
    {
     "data": {
      "text/html": [
       "<div>\n",
       "<style scoped>\n",
       "    .dataframe tbody tr th:only-of-type {\n",
       "        vertical-align: middle;\n",
       "    }\n",
       "\n",
       "    .dataframe tbody tr th {\n",
       "        vertical-align: top;\n",
       "    }\n",
       "\n",
       "    .dataframe thead th {\n",
       "        text-align: right;\n",
       "    }\n",
       "</style>\n",
       "<table border=\"1\" class=\"dataframe\">\n",
       "  <thead>\n",
       "    <tr style=\"text-align: right;\">\n",
       "      <th></th>\n",
       "      <th>Year</th>\n",
       "      <th>Team 1</th>\n",
       "      <th>Team 2</th>\n",
       "      <th>Winner</th>\n",
       "      <th>AdjEM1</th>\n",
       "      <th>AdjO1</th>\n",
       "      <th>AdjD1</th>\n",
       "      <th>AdjT1</th>\n",
       "      <th>Luck1</th>\n",
       "      <th>AdjEM.11</th>\n",
       "      <th>...</th>\n",
       "      <th>AdjEM.21</th>\n",
       "      <th>AdjEM2</th>\n",
       "      <th>AdjO2</th>\n",
       "      <th>AdjD2</th>\n",
       "      <th>AdjT2</th>\n",
       "      <th>Luck2</th>\n",
       "      <th>AdjEM.12</th>\n",
       "      <th>OppO2</th>\n",
       "      <th>OppD2</th>\n",
       "      <th>AdjEM.22</th>\n",
       "    </tr>\n",
       "  </thead>\n",
       "  <tbody>\n",
       "    <tr>\n",
       "      <th>0</th>\n",
       "      <td>2002</td>\n",
       "      <td>Duke</td>\n",
       "      <td>Winthrop</td>\n",
       "      <td>1</td>\n",
       "      <td>34.19</td>\n",
       "      <td>121.0</td>\n",
       "      <td>86.8</td>\n",
       "      <td>74.5</td>\n",
       "      <td>-0.027</td>\n",
       "      <td>9.87</td>\n",
       "      <td>...</td>\n",
       "      <td>6.66</td>\n",
       "      <td>-5.31</td>\n",
       "      <td>97.3</td>\n",
       "      <td>102.6</td>\n",
       "      <td>65.9</td>\n",
       "      <td>0.038</td>\n",
       "      <td>-10.73</td>\n",
       "      <td>97.0</td>\n",
       "      <td>107.7</td>\n",
       "      <td>-0.98</td>\n",
       "    </tr>\n",
       "    <tr>\n",
       "      <th>1</th>\n",
       "      <td>2002</td>\n",
       "      <td>Duke</td>\n",
       "      <td>Notre Dame</td>\n",
       "      <td>1</td>\n",
       "      <td>34.19</td>\n",
       "      <td>121.0</td>\n",
       "      <td>86.8</td>\n",
       "      <td>74.5</td>\n",
       "      <td>-0.027</td>\n",
       "      <td>9.87</td>\n",
       "      <td>...</td>\n",
       "      <td>6.66</td>\n",
       "      <td>19.27</td>\n",
       "      <td>116.1</td>\n",
       "      <td>96.8</td>\n",
       "      <td>68.6</td>\n",
       "      <td>-0.087</td>\n",
       "      <td>7.33</td>\n",
       "      <td>105.4</td>\n",
       "      <td>98.1</td>\n",
       "      <td>-1.55</td>\n",
       "    </tr>\n",
       "    <tr>\n",
       "      <th>2</th>\n",
       "      <td>2002</td>\n",
       "      <td>Duke</td>\n",
       "      <td>Indiana</td>\n",
       "      <td>0</td>\n",
       "      <td>34.19</td>\n",
       "      <td>121.0</td>\n",
       "      <td>86.8</td>\n",
       "      <td>74.5</td>\n",
       "      <td>-0.027</td>\n",
       "      <td>9.87</td>\n",
       "      <td>...</td>\n",
       "      <td>6.66</td>\n",
       "      <td>24.80</td>\n",
       "      <td>114.0</td>\n",
       "      <td>89.2</td>\n",
       "      <td>65.6</td>\n",
       "      <td>-0.049</td>\n",
       "      <td>14.11</td>\n",
       "      <td>110.8</td>\n",
       "      <td>96.7</td>\n",
       "      <td>13.53</td>\n",
       "    </tr>\n",
       "    <tr>\n",
       "      <th>3</th>\n",
       "      <td>2002</td>\n",
       "      <td>UNC Wilmington</td>\n",
       "      <td>Indiana</td>\n",
       "      <td>0</td>\n",
       "      <td>11.32</td>\n",
       "      <td>107.4</td>\n",
       "      <td>96.1</td>\n",
       "      <td>63.9</td>\n",
       "      <td>-0.003</td>\n",
       "      <td>0.83</td>\n",
       "      <td>...</td>\n",
       "      <td>4.56</td>\n",
       "      <td>24.80</td>\n",
       "      <td>114.0</td>\n",
       "      <td>89.2</td>\n",
       "      <td>65.6</td>\n",
       "      <td>-0.049</td>\n",
       "      <td>14.11</td>\n",
       "      <td>110.8</td>\n",
       "      <td>96.7</td>\n",
       "      <td>13.53</td>\n",
       "    </tr>\n",
       "    <tr>\n",
       "      <th>4</th>\n",
       "      <td>2002</td>\n",
       "      <td>Alabama</td>\n",
       "      <td>Florida Atlantic</td>\n",
       "      <td>1</td>\n",
       "      <td>18.73</td>\n",
       "      <td>114.0</td>\n",
       "      <td>95.3</td>\n",
       "      <td>68.0</td>\n",
       "      <td>0.076</td>\n",
       "      <td>8.59</td>\n",
       "      <td>...</td>\n",
       "      <td>-1.56</td>\n",
       "      <td>-2.50</td>\n",
       "      <td>99.6</td>\n",
       "      <td>102.1</td>\n",
       "      <td>70.2</td>\n",
       "      <td>0.060</td>\n",
       "      <td>-4.94</td>\n",
       "      <td>101.9</td>\n",
       "      <td>106.9</td>\n",
       "      <td>-4.52</td>\n",
       "    </tr>\n",
       "  </tbody>\n",
       "</table>\n",
       "<p>5 rows × 22 columns</p>\n",
       "</div>"
      ],
      "text/plain": [
       "   Year          Team 1            Team 2  Winner  AdjEM1  AdjO1  AdjD1  \\\n",
       "0  2002            Duke          Winthrop       1   34.19  121.0   86.8   \n",
       "1  2002            Duke        Notre Dame       1   34.19  121.0   86.8   \n",
       "2  2002            Duke           Indiana       0   34.19  121.0   86.8   \n",
       "3  2002  UNC Wilmington           Indiana       0   11.32  107.4   96.1   \n",
       "4  2002         Alabama  Florida Atlantic       1   18.73  114.0   95.3   \n",
       "\n",
       "   AdjT1  Luck1  AdjEM.11  ...  AdjEM.21  AdjEM2  AdjO2  AdjD2  AdjT2  Luck2  \\\n",
       "0   74.5 -0.027      9.87  ...      6.66   -5.31   97.3  102.6   65.9  0.038   \n",
       "1   74.5 -0.027      9.87  ...      6.66   19.27  116.1   96.8   68.6 -0.087   \n",
       "2   74.5 -0.027      9.87  ...      6.66   24.80  114.0   89.2   65.6 -0.049   \n",
       "3   63.9 -0.003      0.83  ...      4.56   24.80  114.0   89.2   65.6 -0.049   \n",
       "4   68.0  0.076      8.59  ...     -1.56   -2.50   99.6  102.1   70.2  0.060   \n",
       "\n",
       "   AdjEM.12  OppO2  OppD2  AdjEM.22  \n",
       "0    -10.73   97.0  107.7     -0.98  \n",
       "1      7.33  105.4   98.1     -1.55  \n",
       "2     14.11  110.8   96.7     13.53  \n",
       "3     14.11  110.8   96.7     13.53  \n",
       "4     -4.94  101.9  106.9     -4.52  \n",
       "\n",
       "[5 rows x 22 columns]"
      ]
     },
     "execution_count": 372,
     "metadata": {},
     "output_type": "execute_result"
    }
   ],
   "source": [
    "df_games_data = df_games.merge(df_kenpom, left_on=['Team 1', 'Year'], right_on = ['Team', 'Year'])\n",
    "df_games_data.rename(columns=cols_mapping_1, inplace=True)\n",
    "df_games_data = df_games_data.merge(df_kenpom, left_on=['Team 2', 'Year'], right_on = ['Team', 'Year'])\n",
    "df_games_data.rename(columns=cols_mapping_2, inplace=True)\n",
    "df_games_data.drop(columns=['Team_x', 'Team_y'], inplace=True)\n",
    "df_games_data.head()"
   ]
  },
  {
   "cell_type": "markdown",
   "id": "9a6d730c",
   "metadata": {},
   "source": [
    "### Feature Engineering"
   ]
  },
  {
   "cell_type": "code",
   "execution_count": 373,
   "id": "97258d0c",
   "metadata": {},
   "outputs": [],
   "source": [
    "feature_cols = [col for col in cols if col != 'Year' and col != 'Team']"
   ]
  },
  {
   "cell_type": "code",
   "execution_count": 374,
   "id": "e7322e6b",
   "metadata": {},
   "outputs": [
    {
     "data": {
      "text/html": [
       "<div>\n",
       "<style scoped>\n",
       "    .dataframe tbody tr th:only-of-type {\n",
       "        vertical-align: middle;\n",
       "    }\n",
       "\n",
       "    .dataframe tbody tr th {\n",
       "        vertical-align: top;\n",
       "    }\n",
       "\n",
       "    .dataframe thead th {\n",
       "        text-align: right;\n",
       "    }\n",
       "</style>\n",
       "<table border=\"1\" class=\"dataframe\">\n",
       "  <thead>\n",
       "    <tr style=\"text-align: right;\">\n",
       "      <th></th>\n",
       "      <th>Winner</th>\n",
       "      <th>delta_AdjEM</th>\n",
       "      <th>delta_AdjO</th>\n",
       "      <th>delta_AdjD</th>\n",
       "      <th>delta_AdjT</th>\n",
       "      <th>delta_Luck</th>\n",
       "      <th>delta_AdjEM.1</th>\n",
       "      <th>delta_OppO</th>\n",
       "      <th>delta_OppD</th>\n",
       "      <th>delta_AdjEM.2</th>\n",
       "    </tr>\n",
       "  </thead>\n",
       "  <tbody>\n",
       "    <tr>\n",
       "      <th>0</th>\n",
       "      <td>1</td>\n",
       "      <td>39.50</td>\n",
       "      <td>23.7</td>\n",
       "      <td>-15.8</td>\n",
       "      <td>8.6</td>\n",
       "      <td>-0.065</td>\n",
       "      <td>20.60</td>\n",
       "      <td>12.1</td>\n",
       "      <td>-8.5</td>\n",
       "      <td>7.64</td>\n",
       "    </tr>\n",
       "    <tr>\n",
       "      <th>1</th>\n",
       "      <td>1</td>\n",
       "      <td>14.92</td>\n",
       "      <td>4.9</td>\n",
       "      <td>-10.0</td>\n",
       "      <td>5.9</td>\n",
       "      <td>0.060</td>\n",
       "      <td>2.54</td>\n",
       "      <td>3.7</td>\n",
       "      <td>1.1</td>\n",
       "      <td>8.21</td>\n",
       "    </tr>\n",
       "    <tr>\n",
       "      <th>2</th>\n",
       "      <td>0</td>\n",
       "      <td>9.39</td>\n",
       "      <td>7.0</td>\n",
       "      <td>-2.4</td>\n",
       "      <td>8.9</td>\n",
       "      <td>0.022</td>\n",
       "      <td>-4.24</td>\n",
       "      <td>-1.7</td>\n",
       "      <td>2.5</td>\n",
       "      <td>-6.87</td>\n",
       "    </tr>\n",
       "    <tr>\n",
       "      <th>3</th>\n",
       "      <td>0</td>\n",
       "      <td>-13.48</td>\n",
       "      <td>-6.6</td>\n",
       "      <td>6.9</td>\n",
       "      <td>-1.7</td>\n",
       "      <td>0.046</td>\n",
       "      <td>-13.28</td>\n",
       "      <td>-7.6</td>\n",
       "      <td>5.7</td>\n",
       "      <td>-8.97</td>\n",
       "    </tr>\n",
       "    <tr>\n",
       "      <th>4</th>\n",
       "      <td>1</td>\n",
       "      <td>21.23</td>\n",
       "      <td>14.4</td>\n",
       "      <td>-6.8</td>\n",
       "      <td>-2.2</td>\n",
       "      <td>0.016</td>\n",
       "      <td>13.53</td>\n",
       "      <td>5.2</td>\n",
       "      <td>-8.4</td>\n",
       "      <td>2.96</td>\n",
       "    </tr>\n",
       "  </tbody>\n",
       "</table>\n",
       "</div>"
      ],
      "text/plain": [
       "   Winner  delta_AdjEM  delta_AdjO  delta_AdjD  delta_AdjT  delta_Luck  \\\n",
       "0       1        39.50        23.7       -15.8         8.6      -0.065   \n",
       "1       1        14.92         4.9       -10.0         5.9       0.060   \n",
       "2       0         9.39         7.0        -2.4         8.9       0.022   \n",
       "3       0       -13.48        -6.6         6.9        -1.7       0.046   \n",
       "4       1        21.23        14.4        -6.8        -2.2       0.016   \n",
       "\n",
       "   delta_AdjEM.1  delta_OppO  delta_OppD  delta_AdjEM.2  \n",
       "0          20.60        12.1        -8.5           7.64  \n",
       "1           2.54         3.7         1.1           8.21  \n",
       "2          -4.24        -1.7         2.5          -6.87  \n",
       "3         -13.28        -7.6         5.7          -8.97  \n",
       "4          13.53         5.2        -8.4           2.96  "
      ]
     },
     "execution_count": 374,
     "metadata": {},
     "output_type": "execute_result"
    }
   ],
   "source": [
    "for fc in feature_cols:\n",
    "    df_games_data[f'delta_{fc}'] = df_games_data[f'{fc}1'] - df_games_data[f'{fc}2']\n",
    "drop_cols = [col+'1' for col in feature_cols] + [col+'2' for col in feature_cols] + ['Team 1' , 'Team 2', 'Year']\n",
    "df_games_data.drop(columns=drop_cols, inplace=True)\n",
    "df_games_data.head()"
   ]
  },
  {
   "cell_type": "code",
   "execution_count": 375,
   "id": "06916126",
   "metadata": {},
   "outputs": [
    {
     "data": {
      "image/png": "[encoded data removed]",
      "text/plain": [
       "<Figure size 640x480 with 12 Axes>"
      ]
     },
     "metadata": {},
     "output_type": "display_data"
    }
   ],
   "source": [
    "# Look at distributions of data\n",
    "df_games_data.hist()\n",
    "plt.show()"
   ]
  },
  {
   "cell_type": "markdown",
   "id": "85012a64",
   "metadata": {},
   "source": [
    "#### Balance the classes"
   ]
  },
  {
   "cell_type": "code",
   "execution_count": 376,
   "id": "f7dcfdab",
   "metadata": {},
   "outputs": [
    {
     "name": "stdout",
     "output_type": "stream",
     "text": [
      "1    697\n",
      "0    318\n",
      "Name: Winner, dtype: int64\n",
      "1015\n"
     ]
    }
   ],
   "source": [
    "# Classes are currently imbalanced\n",
    "print(df_games_data['Winner'].value_counts())\n",
    "print(len(df_games_data))"
   ]
  },
  {
   "cell_type": "code",
   "execution_count": 377,
   "id": "79ea56e2",
   "metadata": {},
   "outputs": [],
   "source": [
    "def flip_winner(row, limit):\n",
    "    if row['Winner'] == 0 or row['index'] > limit:\n",
    "        return row\n",
    "    else:\n",
    "        row['Winner'] = 0\n",
    "        # flip all values\n",
    "        for fc in feature_cols:\n",
    "            row[f'delta_{fc}'] = -row[f'delta_{fc}']\n",
    "        return row"
   ]
  },
  {
   "cell_type": "code",
   "execution_count": 378,
   "id": "9137d1dc",
   "metadata": {},
   "outputs": [
    {
     "data": {
      "text/html": [
       "<div>\n",
       "<style scoped>\n",
       "    .dataframe tbody tr th:only-of-type {\n",
       "        vertical-align: middle;\n",
       "    }\n",
       "\n",
       "    .dataframe tbody tr th {\n",
       "        vertical-align: top;\n",
       "    }\n",
       "\n",
       "    .dataframe thead th {\n",
       "        text-align: right;\n",
       "    }\n",
       "</style>\n",
       "<table border=\"1\" class=\"dataframe\">\n",
       "  <thead>\n",
       "    <tr style=\"text-align: right;\">\n",
       "      <th></th>\n",
       "      <th>Winner</th>\n",
       "      <th>delta_AdjEM</th>\n",
       "      <th>delta_AdjO</th>\n",
       "      <th>delta_AdjD</th>\n",
       "      <th>delta_AdjT</th>\n",
       "      <th>delta_Luck</th>\n",
       "      <th>delta_AdjEM.1</th>\n",
       "      <th>delta_OppO</th>\n",
       "      <th>delta_OppD</th>\n",
       "      <th>delta_AdjEM.2</th>\n",
       "    </tr>\n",
       "  </thead>\n",
       "  <tbody>\n",
       "    <tr>\n",
       "      <th>0</th>\n",
       "      <td>0</td>\n",
       "      <td>-39.50</td>\n",
       "      <td>-23.7</td>\n",
       "      <td>15.8</td>\n",
       "      <td>-8.6</td>\n",
       "      <td>0.065</td>\n",
       "      <td>-20.60</td>\n",
       "      <td>-12.1</td>\n",
       "      <td>8.5</td>\n",
       "      <td>-7.64</td>\n",
       "    </tr>\n",
       "    <tr>\n",
       "      <th>1</th>\n",
       "      <td>0</td>\n",
       "      <td>-4.09</td>\n",
       "      <td>5.9</td>\n",
       "      <td>10.0</td>\n",
       "      <td>5.1</td>\n",
       "      <td>-0.003</td>\n",
       "      <td>-8.64</td>\n",
       "      <td>-3.9</td>\n",
       "      <td>4.7</td>\n",
       "      <td>5.73</td>\n",
       "    </tr>\n",
       "    <tr>\n",
       "      <th>2</th>\n",
       "      <td>0</td>\n",
       "      <td>-17.33</td>\n",
       "      <td>-10.0</td>\n",
       "      <td>7.3</td>\n",
       "      <td>6.7</td>\n",
       "      <td>0.082</td>\n",
       "      <td>-14.10</td>\n",
       "      <td>-5.1</td>\n",
       "      <td>9.0</td>\n",
       "      <td>3.16</td>\n",
       "    </tr>\n",
       "    <tr>\n",
       "      <th>3</th>\n",
       "      <td>0</td>\n",
       "      <td>-3.19</td>\n",
       "      <td>1.9</td>\n",
       "      <td>5.1</td>\n",
       "      <td>7.2</td>\n",
       "      <td>-0.030</td>\n",
       "      <td>-0.32</td>\n",
       "      <td>0.1</td>\n",
       "      <td>0.4</td>\n",
       "      <td>6.91</td>\n",
       "    </tr>\n",
       "    <tr>\n",
       "      <th>4</th>\n",
       "      <td>0</td>\n",
       "      <td>-6.56</td>\n",
       "      <td>-6.8</td>\n",
       "      <td>-0.3</td>\n",
       "      <td>-4.0</td>\n",
       "      <td>0.075</td>\n",
       "      <td>-9.35</td>\n",
       "      <td>-6.3</td>\n",
       "      <td>3.0</td>\n",
       "      <td>-2.38</td>\n",
       "    </tr>\n",
       "  </tbody>\n",
       "</table>\n",
       "</div>"
      ],
      "text/plain": [
       "   Winner  delta_AdjEM  delta_AdjO  delta_AdjD  delta_AdjT  delta_Luck  \\\n",
       "0       0       -39.50       -23.7        15.8        -8.6       0.065   \n",
       "1       0        -4.09         5.9        10.0         5.1      -0.003   \n",
       "2       0       -17.33       -10.0         7.3         6.7       0.082   \n",
       "3       0        -3.19         1.9         5.1         7.2      -0.030   \n",
       "4       0        -6.56        -6.8        -0.3        -4.0       0.075   \n",
       "\n",
       "   delta_AdjEM.1  delta_OppO  delta_OppD  delta_AdjEM.2  \n",
       "0         -20.60       -12.1         8.5          -7.64  \n",
       "1          -8.64        -3.9         4.7           5.73  \n",
       "2         -14.10        -5.1         9.0           3.16  \n",
       "3          -0.32         0.1         0.4           6.91  \n",
       "4          -9.35        -6.3         3.0          -2.38  "
      ]
     },
     "execution_count": 378,
     "metadata": {},
     "output_type": "execute_result"
    }
   ],
   "source": [
    "num_to_convert = df_games_data['Winner'].value_counts().loc[1] - (len(df_games_data) // 2) - 1\n",
    "\n",
    "df_games_data_rebalanced = df_games_data.sort_values('Winner', ascending=False).reset_index(drop=True).reset_index()\n",
    "df_games_data_rebalanced = df_games_data_rebalanced.apply(lambda row: flip_winner(row, num_to_convert), axis = 1)\n",
    "df_games_data_rebalanced.drop(columns='index', inplace=True)\n",
    "df_games_data_rebalanced['Winner'] = df_games_data_rebalanced['Winner'].astype(int)\n",
    "df_games_data_rebalanced.head()"
   ]
  },
  {
   "cell_type": "code",
   "execution_count": 379,
   "id": "d31672f3",
   "metadata": {},
   "outputs": [
    {
     "name": "stdout",
     "output_type": "stream",
     "text": [
      "0    508\n",
      "1    507\n",
      "Name: Winner, dtype: int64\n"
     ]
    }
   ],
   "source": [
    "print(df_games_data_rebalanced['Winner'].value_counts())"
   ]
  },
  {
   "cell_type": "markdown",
   "id": "390f56f5",
   "metadata": {},
   "source": [
    "### Build Model"
   ]
  },
  {
   "cell_type": "code",
   "execution_count": 380,
   "id": "c3a26898",
   "metadata": {},
   "outputs": [],
   "source": [
    "y = df_games_data_rebalanced['Winner']\n",
    "X = df_games_data_rebalanced.drop(columns=['Winner'])\n",
    "X_train, X_test, y_train, y_test = train_test_split(X,y, test_size=0.25, stratify=y, random_state=68)"
   ]
  },
  {
   "cell_type": "code",
   "execution_count": 381,
   "id": "a8228d45",
   "metadata": {},
   "outputs": [
    {
     "name": "stdout",
     "output_type": "stream",
     "text": [
      "Fitting 5 folds for each of 50 candidates, totalling 250 fits\n",
      "Best Paramaters are: {'learning_rate': 0.6, 'n_estimators': 50}\n",
      "Mean CV Accuracy of best Random Forest Classifier is 81.2%\n",
      "Best Estimator Accuracy on Test Data is 83.46% \n",
      "\n"
     ]
    }
   ],
   "source": [
    "# Adaptive Boosting model\n",
    "tree = DecisionTreeClassifier(max_depth=1, criterion='gini', min_samples_leaf = 5, splitter = \"random\", random_state=68)\n",
    "adb_clf = AdaBoostClassifier(estimator=tree, random_state=68)\n",
    "\n",
    "# Cross Validation to tune hyperparameters\n",
    "params = {'n_estimators': [5, 10, 25, 50, 100], 'learning_rate' : [.1, .2, .3, .4, .5, .6, .7, .8, .9, 1]}\n",
    "grid = GridSearchCV(adb_clf, params, cv=5, n_jobs=-1, verbose=3)\n",
    "\n",
    "# Fit model\n",
    "grid.fit(X_train, y_train)\n",
    "\n",
    "# Find best parameters\n",
    "best_model = grid.best_estimator_\n",
    "print(f\"Best Paramaters are: {grid.best_params_}\")\n",
    "\n",
    "# Examine model performance\n",
    "print(f\"Mean CV Accuracy of best Random Forest Classifier is {round(grid.best_score_*100,2)}%\")\n",
    "\n",
    "# Now we use the best estimator to predict \n",
    "y_pred = best_model.predict(X_test)\n",
    "\n",
    "# Output the accuracy of our prediction\n",
    "print(f\"Best Estimator Accuracy on Test Data is {round(accuracy_score(y_test, y_pred)*100,2)}% \\n\")"
   ]
  },
  {
   "cell_type": "markdown",
   "id": "4bfbf11e",
   "metadata": {},
   "source": [
    "### Simulate 2023 Bracket Predictions"
   ]
  },
  {
   "cell_type": "markdown",
   "id": "30468d93",
   "metadata": {},
   "source": [
    "#### Prepare Data"
   ]
  },
  {
   "cell_type": "code",
   "execution_count": 382,
   "id": "c530c926",
   "metadata": {},
   "outputs": [],
   "source": [
    "# Kenpom\n",
    "df_kenpom_2023 = pd.read_excel('Data/KenPom2023.xlsx')\n",
    "df_kenpom_2023['Year'] = 2023\n",
    "df_kenpom_2023 = clean_kenpom(df_kenpom_2023)\n",
    "df_kenpom_2023.drop(columns=['Year'], inplace=True)"
   ]
  },
  {
   "cell_type": "code",
   "execution_count": 383,
   "id": "9db8774f",
   "metadata": {},
   "outputs": [],
   "source": [
    "df_2023_games = pd.read_excel('Data/Big_Dance_2023.xlsx')"
   ]
  },
  {
   "cell_type": "markdown",
   "id": "b81faf64",
   "metadata": {},
   "source": [
    "#### Simulate each round"
   ]
  },
  {
   "cell_type": "code",
   "execution_count": 384,
   "id": "12e3d039",
   "metadata": {},
   "outputs": [],
   "source": [
    "def prep_round_df(df_round):\n",
    "    df_round = df_round.merge(df_kenpom_2023, left_on='Team 1', right_on='Team')\n",
    "    df_round.rename(columns=cols_mapping_1, inplace=True)\n",
    "    df_round = df_round.merge(df_kenpom_2023, left_on='Team 2', right_on='Team')\n",
    "    df_round.rename(columns=cols_mapping_2, inplace=True)\n",
    "    \n",
    "    for fc in feature_cols:\n",
    "        df_round[f'delta_{fc}'] = df_round[f'{fc}1'] - df_round[f'{fc}2']\n",
    "    drop_cols = [col+'1' for col in feature_cols] + [col+'2' for col in feature_cols] + ['Team 1' , 'Team 2']\n",
    "    df_round.drop(columns=drop_cols, inplace=True)\n",
    "    return df_round"
   ]
  },
  {
   "cell_type": "code",
   "execution_count": 385,
   "id": "0745c92a",
   "metadata": {},
   "outputs": [],
   "source": [
    "def predict_round(df_round_metrics):\n",
    "    X = df_round_metrics.iloc[:,2:]\n",
    "    teams = df_round_metrics[['Team_x', 'Team_y']]\n",
    "    teams['prediction'] = best_model.predict(X)\n",
    "    teams['Winning Team'] = teams.apply(lambda row: row['Team_x'] if row['prediction'] == 1 else row['Team_y'], axis = 1)\n",
    "    return teams"
   ]
  },
  {
   "cell_type": "code",
   "execution_count": 386,
   "id": "223a211f",
   "metadata": {},
   "outputs": [],
   "source": [
    "def create_next_round_matchups(df_predictions):\n",
    "    new_round = {'Team 1': [], 'Team 2': []}\n",
    "    t = df_predictions.iterrows()\n",
    "    for (i, row1), (j, row2) in zip(t, t):\n",
    "        new_round['Team 1'].append(row1['Winning Team'])\n",
    "        new_round['Team 2'].append(row2['Winning Team'])\n",
    "    return pd.DataFrame.from_dict(new_round)"
   ]
  },
  {
   "cell_type": "code",
   "execution_count": 387,
   "id": "5116fe90",
   "metadata": {},
   "outputs": [],
   "source": [
    "round_winners = []\n",
    "df_round = df_2023_games\n",
    "while not df_round.empty:\n",
    "    df_metrics = prep_round_df(df_round)\n",
    "    df_predictions = predict_round(df_metrics)\n",
    "    round_winners.append(df_predictions['Winning Team'].values)\n",
    "    if len(df_predictions) == 1:\n",
    "        df_round = pd.DataFrame()\n",
    "    else:\n",
    "        df_round = create_next_round_matchups(df_predictions)"
   ]
  },
  {
   "cell_type": "code",
   "execution_count": 388,
   "id": "f98fd56d",
   "metadata": {},
   "outputs": [
    {
     "name": "stdout",
     "output_type": "stream",
     "text": [
      "Round of 32 ['Alabama' 'West Virginia' 'Virginia' 'San Diego St' 'Creighton' 'Baylor'\n",
      " 'Utah St' 'Arizona' 'Purdue' 'Florida Atlantic' 'Tennessee'\n",
      " 'Oral Roberts' 'Kentucky' 'Kansas St' 'USC' 'Marquette' 'Houston'\n",
      " 'Auburn' 'Indiana' 'Drake' 'Pittsburgh' 'Xavier' 'Texas A&M' 'Texas'\n",
      " 'Kansas' 'Arkansas' 'Connecticut' 'Saint Marys' 'Nevada' 'Gonzaga'\n",
      " 'Boise St' 'UCLA']\n",
      "Sweet Sixteen ['Alabama' 'San Diego St' 'Baylor' 'Arizona' 'Purdue' 'Tennessee'\n",
      " 'Kansas St' 'Marquette' 'Houston' 'Drake' 'Xavier' 'Texas' 'Kansas'\n",
      " 'Saint Marys' 'Gonzaga' 'UCLA']\n",
      "Elite Eight ['Alabama' 'Arizona' 'Tennessee' 'Marquette' 'Houston' 'Texas' 'Kansas'\n",
      " 'UCLA']\n",
      "Final Four ['Alabama' 'Marquette' 'Texas' 'Kansas']\n",
      "Championship Game ['Alabama' 'Kansas']\n",
      "Champion ['Kansas']\n"
     ]
    }
   ],
   "source": [
    "round_names = ['Round of 32', 'Sweet Sixteen', 'Elite Eight', 'Final Four', 'Championship Game', 'Champion']\n",
    "\n",
    "for rn, rw in zip(round_names, round_winners):\n",
    "    print(rn, rw)"
   ]
  }
 ],
 "metadata": {
  "kernelspec": {
   "display_name": "Python 3 (ipykernel)",
   "language": "python",
   "name": "python3"
  },
  "language_info": {
   "codemirror_mode": {
    "name": "ipython",
    "version": 3
   },
   "file_extension": ".py",
   "mimetype": "text/x-python",
   "name": "python",
   "nbconvert_exporter": "python",
   "pygments_lexer": "ipython3",
   "version": "3.8.8"
  }
 },
 "nbformat": 4,
 "nbformat_minor": 5
}
